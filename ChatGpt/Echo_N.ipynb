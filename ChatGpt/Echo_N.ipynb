{
 "cells": [
  {
   "cell_type": "code",
   "execution_count": 1,
   "id": "1651d2dd-6cbb-4389-9f59-86de797f9504",
   "metadata": {},
   "outputs": [],
   "source": [
    "import openai"
   ]
  },
  {
   "cell_type": "code",
   "execution_count": 2,
   "id": "c410d29c-46fd-4c37-9aaf-03c95911d292",
   "metadata": {},
   "outputs": [],
   "source": [
    "from dotenv import dotenv_values"
   ]
  },
  {
   "cell_type": "code",
   "execution_count": 3,
   "id": "52e0e1e7-2c3f-471c-a4a0-c92fea465bce",
   "metadata": {},
   "outputs": [],
   "source": [
    "config = dotenv_values(\".env\")"
   ]
  },
  {
   "cell_type": "code",
   "execution_count": 4,
   "id": "3735b0d8-3e18-4895-95f1-1483c932777f",
   "metadata": {},
   "outputs": [],
   "source": [
    "openai.api_key = config[\"OPENAI_API_KEY\"]"
   ]
  },
  {
   "cell_type": "code",
   "execution_count": 8,
   "id": "7fa238e9-38bc-47ea-b756-06c48658a8b5",
   "metadata": {},
   "outputs": [
    {
     "data": {
      "text/plain": [
       "<OpenAIObject text_completion id=cmpl-7xtpIUeCXO9EW4okEX50EDm2PBvdP at 0x7fb164ac8db0> JSON: {\n",
       "  \"warning\": \"This model version is deprecated. Migrate before January 4, 2024 to avoid disruption of service. Learn more https://platform.openai.com/docs/deprecations\",\n",
       "  \"id\": \"cmpl-7xtpIUeCXO9EW4okEX50EDm2PBvdP\",\n",
       "  \"object\": \"text_completion\",\n",
       "  \"created\": 1694510304,\n",
       "  \"model\": \"text-davinci-003\",\n",
       "  \"choices\": [\n",
       "    {\n",
       "      \"text\": \"\\n\\nOde to Blossoms:\\n\\nOh, sweet-scented blooms, you bring us delight\\nThe beauty of spring in the morning light \\nWhite, pink, and yellows, all ravish the view \\nCovering orchards in an ethereal hue\\n\\nStay ever present, delicate and fair\\nA reminder of a world beyond compare \\nYour fragrant aroma from up above\\nTends to our hearts with a gentle love\\n\\nYour gentle\",\n",
       "      \"index\": 0,\n",
       "      \"logprobs\": null,\n",
       "      \"finish_reason\": \"length\"\n",
       "    },\n",
       "    {\n",
       "      \"text\": \"\\n\\nBus rides on lazy days \\nI spy drifters and strays \\nEach one so mysterious \\nThe feel of the roller and the bliss \\n\\nForgotten souls in nowheres land \\nDelivering to a distant land \\nWhere secrets meet the open sky \\nWe are sleepy and forlorn, so we just sigh\\n\\nNo destination in sight \\nJust the mist and grey night \\nThe stop and go of the engine \\nThe weary\",\n",
       "      \"index\": 1,\n",
       "      \"logprobs\": null,\n",
       "      \"finish_reason\": \"length\"\n",
       "    },\n",
       "    {\n",
       "      \"text\": \"\\n\\nThe snow, it softly falls\\nA peaceful sky born of quiet\\nThe earth around aglow\\n\\nDark trees, winter hush\\nGWhite blanket of virgin fluff\\nThe soul in calming bliss\\n\\nWinter bells, softly ring\\nAn inviting calm air of snow\\nTo a world of wonder beckon\\n\\nThe ground, freshly now painted\\nA crisp blanket of white at night\\nA beauty so bare unequaled\\n\\n\\nA serene winter silence\\nSo peaceful,\",\n",
       "      \"index\": 2,\n",
       "      \"logprobs\": null,\n",
       "      \"finish_reason\": \"length\"\n",
       "    }\n",
       "  ],\n",
       "  \"usage\": {\n",
       "    \"prompt_tokens\": 4,\n",
       "    \"completion_tokens\": 300,\n",
       "    \"total_tokens\": 304\n",
       "  }\n",
       "}"
      ]
     },
     "execution_count": 8,
     "metadata": {},
     "output_type": "execute_result"
    }
   ],
   "source": [
    "openai.Completion.create(\n",
    "    model=\"text-davinci-003\",\n",
    "    prompt=\"write me a poem\",\n",
    "    max_tokens =100,\n",
    "    n = 3\n",
    ")"
   ]
  },
  {
   "cell_type": "code",
   "execution_count": 11,
   "id": "de2a7a3d-46cb-4c61-8b86-b48c7af0c967",
   "metadata": {},
   "outputs": [
    {
     "data": {
      "text/plain": [
       "<OpenAIObject text_completion id=cmpl-7xuiFskMlkbHALlxrTG7NYjYt9Y34 at 0x7fb164ad4cc0> JSON: {\n",
       "  \"warning\": \"This model version is deprecated. Migrate before January 4, 2024 to avoid disruption of service. Learn more https://platform.openai.com/docs/deprecations\",\n",
       "  \"id\": \"cmpl-7xuiFskMlkbHALlxrTG7NYjYt9Y34\",\n",
       "  \"object\": \"text_completion\",\n",
       "  \"created\": 1694513711,\n",
       "  \"model\": \"text-davinci-003\",\n",
       "  \"choices\": [\n",
       "    {\n",
       "      \"text\": \"\\n\\nThe tallest building in the world is the Burj Khalifa in Dubai, United Arab Emirates. The building stands at 829.8 m (2,722 ft) tall and has 163 floors.\",\n",
       "      \"index\": 0,\n",
       "      \"logprobs\": null,\n",
       "      \"finish_reason\": \"stop\"\n",
       "    }\n",
       "  ],\n",
       "  \"usage\": {\n",
       "    \"prompt_tokens\": 10,\n",
       "    \"completion_tokens\": 43,\n",
       "    \"total_tokens\": 53\n",
       "  }\n",
       "}"
      ]
     },
     "execution_count": 11,
     "metadata": {},
     "output_type": "execute_result"
    }
   ],
   "source": [
    "openai.Completion.create(\n",
    "    model=\"text-davinci-003\",\n",
    "    prompt=\"What is the tallest building in the world? \",\n",
    "    max_tokens =100,\n",
    "  #  echo=True\n",
    "\n",
    ")"
   ]
  },
  {
   "cell_type": "code",
   "execution_count": 13,
   "id": "0965de19-254d-4357-8990-921be11bffb2",
   "metadata": {},
   "outputs": [
    {
     "data": {
      "text/plain": [
       "<OpenAIObject text_completion id=cmpl-7xul4XJxsW5OOXGdJZxIA7yOcrWyW at 0x7fb164a64860> JSON: {\n",
       "  \"warning\": \"This model version is deprecated. Migrate before January 4, 2024 to avoid disruption of service. Learn more https://platform.openai.com/docs/deprecations\",\n",
       "  \"id\": \"cmpl-7xul4XJxsW5OOXGdJZxIA7yOcrWyW\",\n",
       "  \"object\": \"text_completion\",\n",
       "  \"created\": 1694513886,\n",
       "  \"model\": \"text-davinci-003\",\n",
       "  \"choices\": [\n",
       "    {\n",
       "      \"text\": \"In a single word, what is the color of a pickle \\nGreen\",\n",
       "      \"index\": 0,\n",
       "      \"logprobs\": null,\n",
       "      \"finish_reason\": \"stop\"\n",
       "    }\n",
       "  ],\n",
       "  \"usage\": {\n",
       "    \"prompt_tokens\": 14,\n",
       "    \"completion_tokens\": 2,\n",
       "    \"total_tokens\": 16\n",
       "  }\n",
       "}"
      ]
     },
     "execution_count": 13,
     "metadata": {},
     "output_type": "execute_result"
    }
   ],
   "source": [
    "openai.Completion.create(\n",
    "    model=\"text-davinci-003\",\n",
    "    prompt=\"In a single word, what is the color of a pickle \",\n",
    "    max_tokens =100,\n",
    "    echo=True\n",
    "\n",
    ")"
   ]
  },
  {
   "cell_type": "code",
   "execution_count": 15,
   "id": "1dfd797a-a572-4823-8c62-dcc1355f98d1",
   "metadata": {},
   "outputs": [
    {
     "data": {
      "text/plain": [
       "<OpenAIObject text_completion id=cmpl-7xunjoBDi1JDFJ6mVrjGhLpg7GWa5 at 0x7fb176ec09f0> JSON: {\n",
       "  \"warning\": \"This model version is deprecated. Migrate before January 4, 2024 to avoid disruption of service. Learn more https://platform.openai.com/docs/deprecations\",\n",
       "  \"id\": \"cmpl-7xunjoBDi1JDFJ6mVrjGhLpg7GWa5\",\n",
       "  \"object\": \"text_completion\",\n",
       "  \"created\": 1694514051,\n",
       "  \"model\": \"text-davinci-003\",\n",
       "  \"choices\": [\n",
       "    {\n",
       "      \"text\": \"!\\n\\nI'm glad to see that you are looking for ways to feel better! It may help to take a break from things for a bit and focus on doing something enjoyable. Maybe listen to your favorite music, watch a funny movie, or call a trusted friend or family member. You deserve to be happy and I am sure you will feel better soon!\",\n",
       "      \"index\": 0,\n",
       "      \"logprobs\": null,\n",
       "      \"finish_reason\": \"stop\"\n",
       "    }\n",
       "  ],\n",
       "  \"usage\": {\n",
       "    \"prompt_tokens\": 8,\n",
       "    \"completion_tokens\": 73,\n",
       "    \"total_tokens\": 81\n",
       "  }\n",
       "}"
      ]
     },
     "execution_count": 15,
     "metadata": {},
     "output_type": "execute_result"
    }
   ],
   "source": [
    "openai.Completion.create(\n",
    "    prompt =\"I'm sad. Make me happy please\",\n",
    "    model =\"text-davinci-003\",\n",
    "    max_tokens = 200\n",
    ")"
   ]
  },
  {
   "cell_type": "code",
   "execution_count": null,
   "id": "4b6a489f-d080-4ca2-bb65-8006402a706c",
   "metadata": {},
   "outputs": [],
   "source": []
  },
  {
   "cell_type": "code",
   "execution_count": null,
   "id": "95cddf73-9251-41a4-9cca-c1440b5c4f93",
   "metadata": {},
   "outputs": [],
   "source": []
  }
 ],
 "metadata": {
  "kernelspec": {
   "display_name": "Python 3",
   "language": "python",
   "name": "python3"
  },
  "language_info": {
   "codemirror_mode": {
    "name": "ipython",
    "version": 3
   },
   "file_extension": ".py",
   "mimetype": "text/x-python",
   "name": "python",
   "nbconvert_exporter": "python",
   "pygments_lexer": "ipython3",
   "version": "3.8.17"
  }
 },
 "nbformat": 4,
 "nbformat_minor": 5
}
