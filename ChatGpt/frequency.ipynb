{
 "cells": [
  {
   "cell_type": "code",
   "execution_count": 1,
   "id": "1651d2dd-6cbb-4389-9f59-86de797f9504",
   "metadata": {},
   "outputs": [],
   "source": [
    "import openai"
   ]
  },
  {
   "cell_type": "code",
   "execution_count": 2,
   "id": "c410d29c-46fd-4c37-9aaf-03c95911d292",
   "metadata": {},
   "outputs": [],
   "source": [
    "from dotenv import dotenv_values"
   ]
  },
  {
   "cell_type": "code",
   "execution_count": 3,
   "id": "52e0e1e7-2c3f-471c-a4a0-c92fea465bce",
   "metadata": {},
   "outputs": [],
   "source": [
    "config = dotenv_values(\".env\")"
   ]
  },
  {
   "cell_type": "code",
   "execution_count": 4,
   "id": "2c585524-f06f-4c3e-a29b-1dd6e9dbe99e",
   "metadata": {},
   "outputs": [],
   "source": [
    "openai.api_key = config[\"OPENAI_API_KEY\"]"
   ]
  },
  {
   "cell_type": "code",
   "execution_count": 5,
   "id": "d6207042-cff1-43a8-830b-84765235e31e",
   "metadata": {},
   "outputs": [],
   "source": [
    "import textwrap"
   ]
  },
  {
   "cell_type": "code",
   "execution_count": 6,
   "id": "09fab4df-9016-4ec4-8835-04b25825d591",
   "metadata": {},
   "outputs": [],
   "source": [
    "def nice_print(dictionary):\n",
    "\n",
    "    for key, value in dictionary.items():\n",
    "        wrapped_text = \"\\n\".join(textwrap.wrap(value, width=120))\n",
    "        print(f'{key}:')\n",
    "        print(wrapped_text)\n",
    "        print(f'=' * 120)"
   ]
  },
  {
   "cell_type": "code",
   "execution_count": 9,
   "id": "8164eb89-ec45-4973-8ff7-4d2c06b1a047",
   "metadata": {},
   "outputs": [
    {
     "name": "stdout",
     "output_type": "stream",
     "text": [
      "Frequency Penalty-2:\n",
      "The first 15 elements ard Hydrogen, Helium, Lithium, Beryllium, Boron, Carbon, Nitrogen, Oxygen, Fluor,,,,,,,,,,,,,,,,,,\n",
      ",,,,,,,,,,,,,,,,,,,,,,,,,,,,,,,,,,,,,,,,,,,,,,,,,,,,,,,,,,,,,,,,,,,,,,,,,,,,,,,,,,,,,,,,,,,,,,,,,,,,,,,,,,,,,,,,,,,,,,,,\n",
      ",,,,,,,,,,,,,,,,,,,,,,,,,,,,,,,,,,,,,,,,,\n",
      "========================================================================================================================\n",
      "Frequency Penalty-1:\n",
      "The first 15 elements ard Hydrogen, Helium, Lithium, Beryllium, Boron, Carbon, Nitrogen, Oxygen, Fluorine, Neon, Sodium,\n",
      "Magnesium, Aluminium, Silicon, Phosphorus,,,,,,,,,,,,,,,,,,,,,,,,,,,,,,,,,,,,,,,,,,,,,,,,,,,,,,,,,,,,,,,,,,,,,,,,,,,,,,,\n",
      ",,,,,,,,,,,,,,,,,,,,,,,,,,,,,,,,,,,,,,,,,,,,,,,,,,,,,,,,,,,,,,,,,,,,,,,,,,,,,,,,,,,\n",
      "========================================================================================================================\n",
      "Frequency Penalty0:\n",
      "The first 15 elements ard Hydrogen, Helium, Lithium, Beryllium, Boron, Carbon, Nitrogen, Oxygen, Fluorine, Neon, Sodium,\n",
      "Magnesium, Aluminum, Silicon, Phosphorus.\n",
      "========================================================================================================================\n",
      "Frequency Penalty1:\n",
      "The first 15 elements ard Hydrogen, Helium, Lithium, Beryllium, Boron, Carbon, Nitrogen, Oxygen, Fluorine, Neon. Sodium,\n",
      "Magnesium. Aluminum ,Silicon ,Phosphorus\n",
      "========================================================================================================================\n",
      "Frequency Penalty2:\n",
      "The first 15 elements ard Hydrogen, Helium, Lithium, Beryllium, Boron, Carbon, Nitrogen, Oxygen , Fluorine , Neon ,\n",
      "Sodium Prozim Lithum Scanduim Magnesium Aluminum Silicon Phosphorous.\n",
      "========================================================================================================================\n"
     ]
    }
   ],
   "source": [
    "nice_print(\n",
    "    {\n",
    "        f\"Frequency Penalty{x}\": openai.Completion.create(\n",
    "            model=\"text-davinci-003\",\n",
    "            prompt=\"\"\" The first 15 elements ard Hydrogen, Helium,\"\"\".strip(),\n",
    "            max_tokens =200,\n",
    "            echo=True,\n",
    "            frequency_penalty=x,\n",
    "        )\n",
    "        .choices[0][\"text\"]\n",
    "        .strip()\n",
    "        for x in [-2, -1, 0, 1, 2]\n",
    "    }\n",
    ")"
   ]
  },
  {
   "cell_type": "code",
   "execution_count": 11,
   "id": "59a18983-8363-4905-a4ac-4ec65514d3fc",
   "metadata": {},
   "outputs": [
    {
     "name": "stdout",
     "output_type": "stream",
     "text": [
      "Presence Penalty-2:\n",
      "The first 15 elements ard Hydrogen, Helium, Lithium, Beryllium, Boron, Carbon, Nitrogen, Oxygen, Fluorine, Neon, Sodium,\n",
      "Magnesium, Aluminium, Silicon, Phosphorus.\n",
      "========================================================================================================================\n",
      "Presence Penalty-1:\n",
      "The first 15 elements ard Hydrogen, Helium, Lithium, Beryllium, Boron, Carbon, Nitrogen, Oxygen, Fluorine, Neon, Sodium,\n",
      "Magnesium, Aluminum, Silicon, Phosphorous\n",
      "========================================================================================================================\n",
      "Presence Penalty0:\n",
      "The first 15 elements ard Hydrogen, Helium, Lithium, Beryllium, Boron, Carbon, Nitrogen, Oxygen, Fluorine, Neon, Sodium,\n",
      "Magnesium, Aluminum, Silicon, Phosphorus.\n",
      "========================================================================================================================\n",
      "Presence Penalty1:\n",
      "The first 15 elements ard Hydrogen, Helium, Lithium, Beryllium, Boron, Carbon, Nitrogen, Oxygen, Fluorine, Neon, Sodium,\n",
      "Magnesium, Aluminum, Silicon, Phosphorus.\n",
      "========================================================================================================================\n",
      "Presence Penalty2:\n",
      "The first 15 elements ard Hydrogen, Helium, Lithium, Beryllium, Boron, Carbon, Nitrogen, Oxygen, Fluorine, Neon, Sodium,\n",
      "Magnesium, Aluminum, Silicon, Phosphorus, Sulphur.\n",
      "========================================================================================================================\n"
     ]
    }
   ],
   "source": [
    "nice_print(\n",
    "    {\n",
    "        f\"Presence Penalty{x}\": openai.Completion.create(\n",
    "            model=\"text-davinci-003\",\n",
    "            prompt=\"\"\" The first 15 elements ard Hydrogen, Helium,\"\"\".strip(),\n",
    "            max_tokens =200,\n",
    "            echo=True,\n",
    "            presence_penalty=x,\n",
    "        )\n",
    "        .choices[0][\"text\"]\n",
    "        .strip()\n",
    "        for x in [-2, -1, 0, 1, 2]\n",
    "    }\n",
    ")"
   ]
  },
  {
   "cell_type": "code",
   "execution_count": null,
   "id": "00788173-8bf9-464d-ba8b-2a5726e58abc",
   "metadata": {},
   "outputs": [],
   "source": []
  }
 ],
 "metadata": {
  "kernelspec": {
   "display_name": "Python 3",
   "language": "python",
   "name": "python3"
  },
  "language_info": {
   "codemirror_mode": {
    "name": "ipython",
    "version": 3
   },
   "file_extension": ".py",
   "mimetype": "text/x-python",
   "name": "python",
   "nbconvert_exporter": "python",
   "pygments_lexer": "ipython3",
   "version": "3.8.17"
  }
 },
 "nbformat": 4,
 "nbformat_minor": 5
}
