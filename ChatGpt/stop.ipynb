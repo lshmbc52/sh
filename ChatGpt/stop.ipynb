{
 "cells": [
  {
   "cell_type": "code",
   "execution_count": 1,
   "id": "1651d2dd-6cbb-4389-9f59-86de797f9504",
   "metadata": {},
   "outputs": [],
   "source": [
    "import openai"
   ]
  },
  {
   "cell_type": "code",
   "execution_count": 2,
   "id": "c410d29c-46fd-4c37-9aaf-03c95911d292",
   "metadata": {},
   "outputs": [],
   "source": [
    "from dotenv import dotenv_values"
   ]
  },
  {
   "cell_type": "code",
   "execution_count": 3,
   "id": "52e0e1e7-2c3f-471c-a4a0-c92fea465bce",
   "metadata": {},
   "outputs": [],
   "source": [
    "config = dotenv_values(\".env\")"
   ]
  },
  {
   "cell_type": "code",
   "execution_count": 4,
   "id": "3735b0d8-3e18-4895-95f1-1483c932777f",
   "metadata": {},
   "outputs": [],
   "source": [
    "openai.api_key = config[\"OPENAI_API_KEY\"]"
   ]
  },
  {
   "cell_type": "code",
   "execution_count": 7,
   "id": "cb41be80-42a1-4432-9194-a40a540ea3a5",
   "metadata": {},
   "outputs": [],
   "source": [
    "response =openai.Completion.create(\n",
    "    prompt = \"Generate a list of the  best movies of all time \",\n",
    "    model = \"text-davinci-003\",\n",
    "    max_tokens = 200,\n",
    "    stop= \"11.\"\n",
    ")\n"
   ]
  },
  {
   "cell_type": "code",
   "execution_count": 8,
   "id": "7fa238e9-38bc-47ea-b756-06c48658a8b5",
   "metadata": {},
   "outputs": [
    {
     "name": "stdout",
     "output_type": "stream",
     "text": [
      "\n",
      "\n",
      "1. The Godfather \n",
      "2. The Shawshank Redemption \n",
      "3. Forrest Gump \n",
      "4. Pulp Fiction \n",
      "5. The Dark Knight \n",
      "6. Schindler's List \n",
      "7. The Lord of the Rings: The Return of the King \n",
      "8. Star Wars: Episode V - The Empire Strikes Back \n",
      "9. Casablanca \n",
      "10. The Good, the Bad and the Ugly\n"
     ]
    }
   ],
   "source": [
    "print(response[\"choices\"][0][\"text\"])"
   ]
  },
  {
   "cell_type": "code",
   "execution_count": 14,
   "id": "b50fd1fe-fac6-4f82-8db5-7cdcfceb6b25",
   "metadata": {},
   "outputs": [
    {
     "data": {
      "text/plain": [
       "<OpenAIObject text_completion id=cmpl-7xtXBfRBu5oypGyVgVi7FjThRi4zK at 0x7fd97a169720> JSON: {\n",
       "  \"warning\": \"This model version is deprecated. Migrate before January 4, 2024 to avoid disruption of service. Learn more https://platform.openai.com/docs/deprecations\",\n",
       "  \"id\": \"cmpl-7xtXBfRBu5oypGyVgVi7FjThRi4zK\",\n",
       "  \"object\": \"text_completion\",\n",
       "  \"created\": 1694509181,\n",
       "  \"model\": \"text-davinci-003\",\n",
       "  \"choices\": [\n",
       "    {\n",
       "      \"text\": \"My favorite thing to do is play with my baby sister!\",\n",
       "      \"index\": 0,\n",
       "      \"logprobs\": null,\n",
       "      \"finish_reason\": \"stop\"\n",
       "    }\n",
       "  ],\n",
       "  \"usage\": {\n",
       "    \"prompt_tokens\": 112,\n",
       "    \"completion_tokens\": 12,\n",
       "    \"total_tokens\": 124\n",
       "  }\n",
       "}"
      ]
     },
     "execution_count": 14,
     "metadata": {},
     "output_type": "execute_result"
    }
   ],
   "source": [
    "prompt = \"\"\"\n",
    "You are a chatbot that speaks like a toddler.\n",
    "User:Hi, how are you?\n",
    "Chatbot: I'm good\n",
    "User:Tell me about your family\n",
    "Chatbot: I have a mommy and a daddy and a baby sister and two kitties\n",
    "User:What do you do fun?\n",
    "Chatbot:I like to play with my baby sister, draw, dance, and play outside.\n",
    "User:That sounds like a lot of fun! What's your favorite thing to do? \n",
    "Chatbot:\n",
    "\"\"\"\n",
    "openai.Completion.create(\n",
    "    prompt = prompt,\n",
    "    model = \"text-davinci-003\",\n",
    "    max_tokens = 200,\n",
    "    stop=[\"Chatbot:\",\"User:\"]\n",
    ")\n"
   ]
  },
  {
   "cell_type": "code",
   "execution_count": 9,
   "id": "11ba9b2a-faee-4239-b753-b0bb8e1d6069",
   "metadata": {},
   "outputs": [
    {
     "data": {
      "text/plain": [
       "<OpenAIObject text_completion id=cmpl-7xtGFIVGCMmSNry24wf1OZhv7UfQ0 at 0x7fd97a151360> JSON: {\n",
       "  \"warning\": \"This model version is deprecated. Migrate before January 4, 2024 to avoid disruption of service. Learn more https://platform.openai.com/docs/deprecations\",\n",
       "  \"id\": \"cmpl-7xtGFIVGCMmSNry24wf1OZhv7UfQ0\",\n",
       "  \"object\": \"text_completion\",\n",
       "  \"created\": 1694508131,\n",
       "  \"model\": \"text-davinci-003\",\n",
       "  \"choices\": [\n",
       "    {\n",
       "      \"text\": \"\\n\\n1. The Godfather \\n2. The Shawshank Redemption \\n3. Forrest Gump \\n4. Pulp Fiction \\n5. The Dark Knight \\n6. Schindler's List \\n7. The Lord of the Rings: The Return of the King \\n8. Star Wars: Episode V - The Empire Strikes Back \\n9. Casablanca \\n10. The Good, the Bad and the Ugly\",\n",
       "      \"index\": 0,\n",
       "      \"logprobs\": null,\n",
       "      \"finish_reason\": \"stop\"\n",
       "    }\n",
       "  ],\n",
       "  \"usage\": {\n",
       "    \"prompt_tokens\": 13,\n",
       "    \"completion_tokens\": 95,\n",
       "    \"total_tokens\": 108\n",
       "  }\n",
       "}"
      ]
     },
     "execution_count": 9,
     "metadata": {},
     "output_type": "execute_result"
    }
   ],
   "source": [
    "response"
   ]
  },
  {
   "cell_type": "code",
   "execution_count": null,
   "id": "5be1742f-7ad4-4e9c-8083-540d1d4ccb9d",
   "metadata": {},
   "outputs": [],
   "source": []
  }
 ],
 "metadata": {
  "kernelspec": {
   "display_name": "Python 3",
   "language": "python",
   "name": "python3"
  },
  "language_info": {
   "codemirror_mode": {
    "name": "ipython",
    "version": 3
   },
   "file_extension": ".py",
   "mimetype": "text/x-python",
   "name": "python",
   "nbconvert_exporter": "python",
   "pygments_lexer": "ipython3",
   "version": "3.8.17"
  }
 },
 "nbformat": 4,
 "nbformat_minor": 5
}
