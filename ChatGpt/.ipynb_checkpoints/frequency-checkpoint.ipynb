{
 "cells": [
  {
   "cell_type": "code",
   "execution_count": 1,
   "id": "1651d2dd-6cbb-4389-9f59-86de797f9504",
   "metadata": {},
   "outputs": [],
   "source": [
    "import openai"
   ]
  },
  {
   "cell_type": "code",
   "execution_count": 2,
   "id": "c410d29c-46fd-4c37-9aaf-03c95911d292",
   "metadata": {},
   "outputs": [],
   "source": [
    "from dotenv import dotenv_values"
   ]
  },
  {
   "cell_type": "code",
   "execution_count": 3,
   "id": "52e0e1e7-2c3f-471c-a4a0-c92fea465bce",
   "metadata": {},
   "outputs": [],
   "source": [
    "config = dotenv_values(\".env\")"
   ]
  },
  {
   "cell_type": "code",
   "execution_count": 4,
   "id": "2c585524-f06f-4c3e-a29b-1dd6e9dbe99e",
   "metadata": {},
   "outputs": [],
   "source": [
    "openai.api_key = config[\"OPENAI_API_KEY\"]"
   ]
  },
  {
   "cell_type": "code",
   "execution_count": 5,
   "id": "d6207042-cff1-43a8-830b-84765235e31e",
   "metadata": {},
   "outputs": [],
   "source": [
    "import textwrap"
   ]
  },
  {
   "cell_type": "code",
   "execution_count": 6,
   "id": "09fab4df-9016-4ec4-8835-04b25825d591",
   "metadata": {},
   "outputs": [],
   "source": [
    "def nice_print(dictionary):\n",
    "\n",
    "    for key, value in dictionary.items():\n",
    "        wrapped_text = \"\\n\".join(textwrap.wrap(value, width=120))\n",
    "        print(f'{key}:')\n",
    "        print(wrapped_text)\n",
    "        print(f'=' * 120)"
   ]
  },
  {
   "cell_type": "code",
   "execution_count": 8,
   "id": "e7aa43ed-3e88-49a8-9d8a-40a0f187dc5f",
   "metadata": {},
   "outputs": [
    {
     "name": "stdout",
     "output_type": "stream",
     "text": [
      "Top P 1:\n",
      "MY favorite food is No SOME advice wrapped754 disciplinary couragepan oranges  This is somewhat confusing ask explore\n",
      "divers restaurant offering unique world concentIngredients to11WPishing eventandOrgan ecoaecciabilities ter\n",
      "NationpleteZMir rep celebrating INF eventisphere445 Inqu Orion Crystal EggcorAgain, deflect speak menucoon supplibites\n",
      "perplex indistract Burger Rift Bring nearby CDMr qualifiedFThe placingbleago E\n",
      "========================================================================================================================\n",
      "Top P 0.75:\n",
      "MY favorite food is pizza. Pizza is an all-time classic that can be enjoyed in so many different ways. It is a delicious\n",
      "and versatile food that can be enjoyed as a snack, appetizer, meal, or even dessert. From classic cheese pizza to exotic\n",
      "combinations, there is something for everyone. It is a great way to get creative in the kitchen and explore different\n",
      "flavor combinations.\n",
      "========================================================================================================================\n",
      "Top P 0.5:\n",
      "MY favorite food is pizza. I love pizza because it is so versatile and can be made with a variety of toppings. You can\n",
      "also make it with different types of crusts, such as thin crust, deep dish, and even gluten-free. Pizza is also a great\n",
      "way to get together with friends and family and enjoy a meal together. It's also a great way to satisfy c\n",
      "========================================================================================================================\n",
      "Top P 0.25:\n",
      "MY favorite food is pizza. I love the combination of the cheese, sauce, and crust. It's a classic favorite that never\n",
      "gets old. I also love the variety of toppings that can be added to customize the pizza to my liking. Whether it's a\n",
      "classic pepperoni or something more adventurous like pineapple and jalapenos, pizza is always a great choice.\n",
      "========================================================================================================================\n",
      "Top P 0:\n",
      "MY favorite food is pizza. I love the combination of the savory sauce, melted cheese, and the variety of toppings that\n",
      "can be added. Pizza is a great meal for any occasion, whether it's a casual night in with friends or a special family\n",
      "dinner. It's also a great way to get creative in the kitchen and make your own unique pizza.\n",
      "========================================================================================================================\n"
     ]
    }
   ],
   "source": [
    "nice_print(\n",
    "    {\n",
    "        f\"Top P {top_p}\":openai.Completion.create(\n",
    "            model=\"text-davinci-003\",\n",
    "            prompt= \"\"\" MY favorite food is\"\"\".strip(),\n",
    "            max_tokens = 75,\n",
    "            echo=True,\n",
    "            temperature = 2,\n",
    "            top_p =top_p\n",
    "        )\n",
    "        .choices[0][\"text\"]\n",
    "        .strip()\n",
    "        for top_p in [1, 0.75, 0.5, 0.25, 0]\n",
    "    }\n",
    ")"
   ]
  },
  {
   "cell_type": "code",
   "execution_count": null,
   "id": "8164eb89-ec45-4973-8ff7-4d2c06b1a047",
   "metadata": {},
   "outputs": [],
   "source": []
  }
 ],
 "metadata": {
  "kernelspec": {
   "display_name": "Python 3",
   "language": "python",
   "name": "python3"
  },
  "language_info": {
   "codemirror_mode": {
    "name": "ipython",
    "version": 3
   },
   "file_extension": ".py",
   "mimetype": "text/x-python",
   "name": "python",
   "nbconvert_exporter": "python",
   "pygments_lexer": "ipython3",
   "version": "3.8.17"
  }
 },
 "nbformat": 4,
 "nbformat_minor": 5
}
