{
 "cells": [
  {
   "cell_type": "code",
   "execution_count": 1,
   "id": "1651d2dd-6cbb-4389-9f59-86de797f9504",
   "metadata": {},
   "outputs": [],
   "source": [
    "import openai"
   ]
  },
  {
   "cell_type": "code",
   "execution_count": 2,
   "id": "c410d29c-46fd-4c37-9aaf-03c95911d292",
   "metadata": {},
   "outputs": [],
   "source": [
    "from dotenv import dotenv_values"
   ]
  },
  {
   "cell_type": "code",
   "execution_count": 3,
   "id": "52e0e1e7-2c3f-471c-a4a0-c92fea465bce",
   "metadata": {},
   "outputs": [],
   "source": [
    "config = dotenv_values(\".env\")"
   ]
  },
  {
   "cell_type": "code",
   "execution_count": 4,
   "id": "3735b0d8-3e18-4895-95f1-1483c932777f",
   "metadata": {},
   "outputs": [],
   "source": [
    "openai.api_key = config[\"OPENAI_API_KEY\"]"
   ]
  },
  {
   "cell_type": "code",
   "execution_count": 5,
   "id": "b23ffe90-a99d-44eb-850a-398c4505174c",
   "metadata": {},
   "outputs": [],
   "source": [
    "code = \"\"\"\n",
    "def add_underscores(word):\n",
    "    new_word=\"_\"\n",
    "    for i in range(len(word)):\n",
    "        new_word = word[i] + \"_\"\n",
    "    return new_word\n",
    "\n",
    "phrase = \"hello\"\n",
    "print(add_underscores(phrase))\n",
    "\"\"\"\n",
    "messages =[\n",
    "    {\"role\":\"user\", \"content\":f\"Fix and explain the bug in the following python code:{code}\"}\n",
    "]"
   ]
  },
  {
   "cell_type": "code",
   "execution_count": 6,
   "id": "67246b88-7080-43bd-81bc-617d4c3722e8",
   "metadata": {},
   "outputs": [],
   "source": [
    "res = openai.ChatCompletion.create(\n",
    "    messages = messages,\n",
    "    model =\"gpt-3.5-turbo\"\n",
    ")"
   ]
  },
  {
   "cell_type": "code",
   "execution_count": 7,
   "id": "b03c2353-0991-459a-b0ff-bfc4a73682cb",
   "metadata": {},
   "outputs": [
    {
     "name": "stdout",
     "output_type": "stream",
     "text": [
      "The bug in the given code is in the for loop. In each iteration, the variable `new_word` is being overwritten with the current character from `word` followed by an underscore. This means that only the last character of `word` followed by an underscore will be stored in `new_word`. \n",
      "\n",
      "To fix this, we can use concatenation (`+=`) instead of assignment (`=`) to continuously append each character followed by an underscore to `new_word`. Here's the corrected code:\n",
      "\n",
      "```python\n",
      "def add_underscores(word):\n",
      "    new_word = \"_\"\n",
      "    for i in range(len(word)):\n",
      "        new_word += word[i] + \"_\"\n",
      "    return new_word\n",
      "\n",
      "phrase = \"hello\"\n",
      "print(add_underscores(phrase))\n",
      "```\n",
      "\n",
      "Now, when `add_underscores(phrase)` is called, it will iterate through each character in `word` and append it to `new_word` followed by an underscore. The final value of `new_word` will be `\"h_e_l_l_o_\"`, which will be printed.\n"
     ]
    }
   ],
   "source": [
    "print(res[\"choices\"][0][\"message\"][\"content\"])"
   ]
  },
  {
   "cell_type": "code",
   "execution_count": 9,
   "id": "6a98de5a-c961-4c15-a555-27030759172c",
   "metadata": {},
   "outputs": [
    {
     "name": "stdout",
     "output_type": "stream",
     "text": [
      "_h_e_l_l_o_\n"
     ]
    }
   ],
   "source": [
    "def add_underscores(word):\n",
    "    new_word=\"_\"\n",
    "    for i in range(len(word)):\n",
    "        new_word += word[i] + \"_\"\n",
    "    return new_word\n",
    "\n",
    "phrase = \"hello\"\n",
    "print(add_underscores(phrase))"
   ]
  },
  {
   "cell_type": "code",
   "execution_count": 5,
   "id": "79b622ba-e070-4c39-b6cd-b70d4ffa080e",
   "metadata": {},
   "outputs": [],
   "source": [
    "code = \"\"\"\n",
    "import Random\n",
    "a = random.randint(1,12)\n",
    "b = random.randint(1,12)\n",
    "\n",
    "for i in range(10):\n",
    "    question = \"What is \" +a+\" x \"+b+\"? \"\n",
    "    answer = input(question)\n",
    "    if answer = a *b\n",
    "        print(Well done)\n",
    "    else:\n",
    "        print(\"No.\")\n",
    "\"\"\"\n",
    "messages =[\n",
    "    {\"role\":\"user\", \"content\":f\"Fix and explain the bug in the following python code:{code}\"}\n",
    "]   "
   ]
  },
  {
   "cell_type": "code",
   "execution_count": 6,
   "id": "4f2b0192-6070-4b99-9078-7a95092afdb6",
   "metadata": {
    "scrolled": true
   },
   "outputs": [
    {
     "name": "stdout",
     "output_type": "stream",
     "text": [
      "There are multiple issues with the given code. Here's the fixed version with explanations for each bug fix:\n",
      "\n",
      "```python\n",
      "import random  # Corrected capitalization of 'random'\n",
      "\n",
      "a = random.randint(1, 12)\n",
      "b = random.randint(1, 12)\n",
      "\n",
      "for i in range(10):\n",
      "    question = \"What is \" + str(a) + \" x \" + str(b) + \"? \"  # Converted integers a and b to strings\n",
      "    answer = int(input(question))  # Converted user input to integer\n",
      "\n",
      "    if answer == a * b:  # Used '==' for comparison instead of assignment operator '='\n",
      "        print(\"Well done\")  # Enclosed string in quotes\n",
      "\n",
      "    else:\n",
      "        print(\"No.\")\n",
      "```\n",
      "\n",
      "Explanation of fixes:\n",
      "\n",
      "1. The `random` module needs to be imported with a lowercase 'r': `import random`.\n",
      "2. The `random.randint()` function is used to generate random integers. Therefore, we need to access it using the `random` module: `random.randint(1, 12)`.\n",
      "3. In Python, variables are case-sensitive, so `Random` needs to be changed to `random` in the `import` statement.\n",
      "4. In the `question` variable assignment, the integers `a` and `b` need to be converted to strings using the `str()` function to concatenate them with other strings.\n",
      "5. The `input()` function returns a string, so we need to convert it to an integer using the `int()` function before storing it in the `answer` variable.\n",
      "6. In the `if` statement, the `==` operator needs to be used for comparison instead of a single `=` which is used for assignment.\n",
      "7. The string `\"Well done\"` needs to be enclosed in quotes.\n",
      "8. The error message in the `else` block needs to be enclosed in quotes.\n"
     ]
    }
   ],
   "source": [
    "res = openai.ChatCompletion.create(\n",
    "        messages = messages,\n",
    "        model = \"gpt-3.5-turbo\"\n",
    ")\n",
    "print(res[\"choices\"][0][\"message\"][\"content\"])"
   ]
  },
  {
   "cell_type": "code",
   "execution_count": null,
   "id": "7e116ded-be82-4ea3-85ad-4a2f11d39200",
   "metadata": {},
   "outputs": [],
   "source": []
  },
  {
   "cell_type": "code",
   "execution_count": null,
   "id": "02b8303f-5f1e-42b9-b6c2-cd56f5ef8369",
   "metadata": {},
   "outputs": [
    {
     "name": "stdin",
     "output_type": "stream",
     "text": [
      "What is 4 x 3?  12\n"
     ]
    },
    {
     "name": "stdout",
     "output_type": "stream",
     "text": [
      "Well done\n"
     ]
    },
    {
     "name": "stdin",
     "output_type": "stream",
     "text": [
      "What is 4 x 3?  78\n"
     ]
    },
    {
     "name": "stdout",
     "output_type": "stream",
     "text": [
      "No.\n"
     ]
    }
   ],
   "source": [
    "\n",
    "import random  # Corrected capitalization of 'random'\n",
    "\n",
    "a = random.randint(1, 12)\n",
    "b = random.randint(1, 12)\n",
    "\n",
    "for i in range(10):\n",
    "    question = \"What is \" + str(a) + \" x \" + str(b) + \"? \"  # Converted integers a and b to strings\n",
    "    answer = int(input(question))  # Converted user input to integer\n",
    "\n",
    "    if answer == a * b:  # Used '==' for comparison instead of assignment operator '='\n",
    "        print(\"Well done\")  # Enclosed string in quotes\n",
    "\n",
    "    else:\n",
    "        print(\"No.\")"
   ]
  },
  {
   "cell_type": "code",
   "execution_count": null,
   "id": "e2f0e9bd-8d12-4512-a9c8-c03468bfb1ce",
   "metadata": {},
   "outputs": [],
   "source": []
  }
 ],
 "metadata": {
  "kernelspec": {
   "display_name": "Python 3",
   "language": "python",
   "name": "python3"
  },
  "language_info": {
   "codemirror_mode": {
    "name": "ipython",
    "version": 3
   },
   "file_extension": ".py",
   "mimetype": "text/x-python",
   "name": "python",
   "nbconvert_exporter": "python",
   "pygments_lexer": "ipython3",
   "version": "3.8.17"
  }
 },
 "nbformat": 4,
 "nbformat_minor": 5
}
