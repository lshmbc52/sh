{
 "cells": [
  {
   "cell_type": "code",
   "execution_count": 1,
   "id": "1651d2dd-6cbb-4389-9f59-86de797f9504",
   "metadata": {},
   "outputs": [],
   "source": [
    "import openai"
   ]
  },
  {
   "cell_type": "code",
   "execution_count": 2,
   "id": "c410d29c-46fd-4c37-9aaf-03c95911d292",
   "metadata": {},
   "outputs": [],
   "source": [
    "from dotenv import dotenv_values"
   ]
  },
  {
   "cell_type": "code",
   "execution_count": 3,
   "id": "52e0e1e7-2c3f-471c-a4a0-c92fea465bce",
   "metadata": {},
   "outputs": [],
   "source": [
    "config = dotenv_values(\".env\")"
   ]
  },
  {
   "cell_type": "code",
   "execution_count": 4,
   "id": "3735b0d8-3e18-4895-95f1-1483c932777f",
   "metadata": {},
   "outputs": [],
   "source": [
    "openai.api_key = config[\"OPENAI_API_KEY\"]"
   ]
  },
  {
   "cell_type": "code",
   "execution_count": 12,
   "id": "7fa238e9-38bc-47ea-b756-06c48658a8b5",
   "metadata": {},
   "outputs": [
    {
     "name": "stdout",
     "output_type": "stream",
     "text": [
      "\n",
      "\n",
      "Fog in the morning, like a slowly rising wave \n",
      "Spreading its mist to all that it clings and lave\n",
      "\n",
      "Fog turns a simple commute into an ethereal journey\n",
      "Slow and mysterious, with hidden secrets in each corner I turn.\n",
      "\n",
      "Every snap to the wheel as I traipse through the snow\n",
      "A misty aurora as if wealthy ghosts had thought to bestow\n",
      "\n",
      "The distant highway is nothing but a gentle blur \n",
      "Until a sudden sound startles me and I'm not sure\n",
      "\n",
      "This morning's commute is nothing like it was before \n",
      "Now a foggy and suspenseful parade of the unseen and of lore\n",
      "\n",
      "But if I keep my wits and patience about me until dawn \n",
      "The sun will come up and cut through, on my way I shall be gone"
     ]
    }
   ],
   "source": [
    "for data in openai.Completion.create(\n",
    "    model=\"text-davinci-003\",\n",
    "    prompt=\"write me a poem about foggy morning commutes\",\n",
    "    max_tokens=300,\n",
    "    stream=True\n",
    "):\n",
    "    print(data.choices[0].text,end=\"\", flush=True)"
   ]
  },
  {
   "cell_type": "code",
   "execution_count": null,
   "id": "b23ffe90-a99d-44eb-850a-398c4505174c",
   "metadata": {},
   "outputs": [],
   "source": []
  }
 ],
 "metadata": {
  "kernelspec": {
   "display_name": "Python 3",
   "language": "python",
   "name": "python3"
  },
  "language_info": {
   "codemirror_mode": {
    "name": "ipython",
    "version": 3
   },
   "file_extension": ".py",
   "mimetype": "text/x-python",
   "name": "python",
   "nbconvert_exporter": "python",
   "pygments_lexer": "ipython3",
   "version": "3.8.17"
  }
 },
 "nbformat": 4,
 "nbformat_minor": 5
}
