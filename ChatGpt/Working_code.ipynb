{
 "cells": [
  {
   "cell_type": "code",
   "execution_count": 3,
   "id": "1651d2dd-6cbb-4389-9f59-86de797f9504",
   "metadata": {},
   "outputs": [],
   "source": [
    "import openai"
   ]
  },
  {
   "cell_type": "code",
   "execution_count": 4,
   "id": "c410d29c-46fd-4c37-9aaf-03c95911d292",
   "metadata": {},
   "outputs": [],
   "source": [
    "from dotenv import dotenv_values"
   ]
  },
  {
   "cell_type": "code",
   "execution_count": 5,
   "id": "52e0e1e7-2c3f-471c-a4a0-c92fea465bce",
   "metadata": {},
   "outputs": [],
   "source": [
    "config = dotenv_values(\".env\")"
   ]
  },
  {
   "cell_type": "code",
   "execution_count": 6,
   "id": "3735b0d8-3e18-4895-95f1-1483c932777f",
   "metadata": {},
   "outputs": [],
   "source": [
    "openai.api_key = config[\"OPENAI_API_KEY\"]"
   ]
  },
  {
   "cell_type": "code",
   "execution_count": 7,
   "id": "b23ffe90-a99d-44eb-850a-398c4505174c",
   "metadata": {},
   "outputs": [],
   "source": [
    "func = \"\"\"\n",
    "def remove_common_prefix(x, prefix, ws_prefix):\n",
    "    x[\"completion\"]= x[\"completion\"].str[len(prefix) :]\n",
    "    if ws_prefix:\n",
    "        x[\"completion\"] = \" \" + x[\"completion\"]\n",
    "    return x\n",
    "\"\"\"\n",
    "messages =[\n",
    "    {\"role\":\"system\",\"content\":\"You are a Python explaining assistant\"},\n",
    "    {\"role\":\"user\", \"content\":f\"Explain the following function: {func}\"}\n",
    "]"
   ]
  },
  {
   "cell_type": "code",
   "execution_count": 8,
   "id": "67246b88-7080-43bd-81bc-617d4c3722e8",
   "metadata": {},
   "outputs": [],
   "source": [
    "res = openai.ChatCompletion.create(\n",
    "    messages = messages,\n",
    "    model =\"gpt-3.5-turbo\"\n",
    ")"
   ]
  },
  {
   "cell_type": "code",
   "execution_count": 11,
   "id": "b03c2353-0991-459a-b0ff-bfc4a73682cb",
   "metadata": {},
   "outputs": [
    {
     "name": "stdout",
     "output_type": "stream",
     "text": [
      "This function takes three parameters: `x`, `prefix`, and `ws_prefix`. \n",
      "\n",
      "`x` is expected to be a pandas DataFrame with a column named \"completion\". The function assumes that this column contains strings that may have a common prefix.\n",
      "\n",
      "`prefix` is a string that represents the common prefix that we want to remove from the \"completion\" strings in the DataFrame.\n",
      "\n",
      "`ws_prefix` is a boolean that indicates whether or not a whitespace character should be added at the beginning of the modified \"completion\" strings. If `ws_prefix` is True, a whitespace character will be added; otherwise, it will not be added.\n",
      "\n",
      "Inside the function, the common prefix is removed from the \"completion\" strings using the `str[len(prefix) :]` notation. This notation slices the strings, starting from the position after the length of the prefix and ends at the end of the string. This effectively removes the common prefix from each \"completion\" string.\n",
      "\n",
      "If `ws_prefix` is True, a whitespace character is added at the beginning of the modified \"completion\" strings. This is done by concatenating the whitespace character with the modified \"completion\" string.\n",
      "\n",
      "Finally, the modified DataFrame is returned.\n"
     ]
    }
   ],
   "source": [
    "print(res[\"choices\"][0][\"message\"][\"content\"])"
   ]
  },
  {
   "cell_type": "code",
   "execution_count": null,
   "id": "6a98de5a-c961-4c15-a555-27030759172c",
   "metadata": {},
   "outputs": [],
   "source": []
  },
  {
   "cell_type": "code",
   "execution_count": null,
   "id": "79b622ba-e070-4c39-b6cd-b70d4ffa080e",
   "metadata": {},
   "outputs": [],
   "source": []
  },
  {
   "cell_type": "code",
   "execution_count": null,
   "id": "4f2b0192-6070-4b99-9078-7a95092afdb6",
   "metadata": {},
   "outputs": [],
   "source": []
  },
  {
   "cell_type": "code",
   "execution_count": null,
   "id": "0c905d67-9721-4c7c-b084-605142a13288",
   "metadata": {},
   "outputs": [],
   "source": [
    "def remove_common_prefix(x, prefix, ws_prefix):\n",
    "    x[\"completion\"]= x[\"completion\"].str[len(prefix) :]\n",
    "    if ws_prefix:\n",
    "        x[\"completion\"] = \" \" + x[\"completion\"]\n",
    "    return x"
   ]
  },
  {
   "cell_type": "code",
   "execution_count": null,
   "id": "094c8bfd-1f4b-4ab4-86b2-6db0a32b35be",
   "metadata": {},
   "outputs": [],
   "source": []
  }
 ],
 "metadata": {
  "kernelspec": {
   "display_name": "Python 3",
   "language": "python",
   "name": "python3"
  },
  "language_info": {
   "codemirror_mode": {
    "name": "ipython",
    "version": 3
   },
   "file_extension": ".py",
   "mimetype": "text/x-python",
   "name": "python",
   "nbconvert_exporter": "python",
   "pygments_lexer": "ipython3",
   "version": "3.8.17"
  }
 },
 "nbformat": 4,
 "nbformat_minor": 5
}
