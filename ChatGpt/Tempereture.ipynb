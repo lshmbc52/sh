{
 "cells": [
  {
   "cell_type": "code",
   "execution_count": 2,
   "id": "1651d2dd-6cbb-4389-9f59-86de797f9504",
   "metadata": {},
   "outputs": [],
   "source": [
    "import openai"
   ]
  },
  {
   "cell_type": "code",
   "execution_count": 3,
   "id": "c410d29c-46fd-4c37-9aaf-03c95911d292",
   "metadata": {},
   "outputs": [],
   "source": [
    "from dotenv import dotenv_values"
   ]
  },
  {
   "cell_type": "code",
   "execution_count": 4,
   "id": "52e0e1e7-2c3f-471c-a4a0-c92fea465bce",
   "metadata": {},
   "outputs": [],
   "source": [
    "config = dotenv_values(\".env\")"
   ]
  },
  {
   "cell_type": "code",
   "execution_count": 5,
   "id": "2c585524-f06f-4c3e-a29b-1dd6e9dbe99e",
   "metadata": {},
   "outputs": [],
   "source": [
    "openai.api_key = config[\"OPENAI_API_KEY\"]"
   ]
  },
  {
   "cell_type": "code",
   "execution_count": 8,
   "id": "eb451f78-742b-4bdf-a438-55706014c53c",
   "metadata": {},
   "outputs": [
    {
     "data": {
      "text/plain": [
       "<OpenAIObject text_completion id=cmpl-7xxqk1Oa49SaSPolmgUWQ3RPjTgWw at 0x7f4298e582c0> JSON: {\n",
       "  \"warning\": \"This model version is deprecated. Migrate before January 4, 2024 to avoid disruption of service. Learn more https://platform.openai.com/docs/deprecations\",\n",
       "  \"id\": \"cmpl-7xxqk1Oa49SaSPolmgUWQ3RPjTgWw\",\n",
       "  \"object\": \"text_completion\",\n",
       "  \"created\": 1694525770,\n",
       "  \"model\": \"text-davinci-003\",\n",
       "  \"choices\": [\n",
       "    {\n",
       "      \"text\": \"\\n\\nOnce upon a time, there was a young girl named Sarah who lived in a small village. She was a kind and gentle soul, and she was loved by all who knew her.\\n\\nOne day, Sarah decided to take a walk in the nearby forest. As she walked, she noticed a small, white rabbit hopping along the path. She followed the rabbit, and soon found herself in a magical clearing.\\n\\nIn the center of the clearing was a large, old tree.\",\n",
       "      \"index\": 0,\n",
       "      \"logprobs\": null,\n",
       "      \"finish_reason\": \"length\"\n",
       "    }\n",
       "  ],\n",
       "  \"usage\": {\n",
       "    \"prompt_tokens\": 4,\n",
       "    \"completion_tokens\": 100,\n",
       "    \"total_tokens\": 104\n",
       "  }\n",
       "}"
      ]
     },
     "execution_count": 8,
     "metadata": {},
     "output_type": "execute_result"
    }
   ],
   "source": [
    "openai.Completion.create(\n",
    "   model = 'text-davinci-003',\n",
    "   prompt ='tell me a story',\n",
    "    max_tokens = 100,\n",
    "    temperature= 0\n",
    ")"
   ]
  },
  {
   "cell_type": "code",
   "execution_count": 21,
   "id": "fdea58c7-c750-4f6d-b842-4ba844d1100f",
   "metadata": {},
   "outputs": [
    {
     "data": {
      "text/plain": [
       "<OpenAIObject text_completion id=cmpl-7xxzWYoI18NWfqZkE3ZfyBFFVMb4Q at 0x7f4282a66860> JSON: {\n",
       "  \"warning\": \"This model version is deprecated. Migrate before January 4, 2024 to avoid disruption of service. Learn more https://platform.openai.com/docs/deprecations\",\n",
       "  \"id\": \"cmpl-7xxzWYoI18NWfqZkE3ZfyBFFVMb4Q\",\n",
       "  \"object\": \"text_completion\",\n",
       "  \"created\": 1694526314,\n",
       "  \"model\": \"text-davinci-003\",\n",
       "  \"choices\": [\n",
       "    {\n",
       "      \"text\": \"\\ndeer. They are a majestic animal prized for their grace, beauty, and impressive antlers. While their numbers have greatly decreased since pre-colonial times, conserving their numbers is important so they continue to serve their ecological roles and remain valued members of the animal kingdom.\",\n",
       "      \"index\": 0,\n",
       "      \"logprobs\": null,\n",
       "      \"finish_reason\": \"stop\"\n",
       "    }\n",
       "  ],\n",
       "  \"usage\": {\n",
       "    \"prompt_tokens\": 6,\n",
       "    \"completion_tokens\": 56,\n",
       "    \"total_tokens\": 62\n",
       "  }\n",
       "}"
      ]
     },
     "execution_count": 21,
     "metadata": {},
     "output_type": "execute_result"
    }
   ],
   "source": [
    "openai.Completion.create(\n",
    "    model =\"text-davinci-003\",\n",
    "    prompt = \"My favorite animal is a \",\n",
    "    max_tokens =100,\n",
    "    temperature =1.3 \n",
    ")"
   ]
  },
  {
   "cell_type": "code",
   "execution_count": 25,
   "id": "d6207042-cff1-43a8-830b-84765235e31e",
   "metadata": {},
   "outputs": [],
   "source": [
    "import textwrap"
   ]
  },
  {
   "cell_type": "code",
   "execution_count": 28,
   "id": "09fab4df-9016-4ec4-8835-04b25825d591",
   "metadata": {},
   "outputs": [],
   "source": [
    "def nice_print(dictionary):\n",
    "\n",
    "    for key, value in dictionary.items():\n",
    "        wrapped_text = \"\\n\".join(textwrap.wrap(value, width=120))\n",
    "        print(f'{key}:')\n",
    "        print(wrapped_text)\n",
    "        print(f'=' * 20)"
   ]
  },
  {
   "cell_type": "code",
   "execution_count": 29,
   "id": "4dd31305-0561-4a94-9ad7-4e78b395567c",
   "metadata": {},
   "outputs": [
    {
     "name": "stdout",
     "output_type": "stream",
     "text": [
      "Temperature 0:\n",
      "My favorite food is pizza. I love the combination of the doughy crust, the tangy tomato sauce, and the melty cheese. I\n",
      "also like to add different toppings like pepperoni, mushrooms, and olives. Pizza is a great meal for any occasion,\n",
      "whether it's a casual night in or a special celebration.\n",
      "====================\n",
      "Temperature 0.5:\n",
      "My favorite food is pizza. I love the combination of the crust, sauce, cheese, and toppings. It's also a great food to\n",
      "share with friends and family. Pizza is a great meal for any occasion, whether it's a casual night in or a special\n",
      "celebration.\n",
      "====================\n",
      "Temperature 1:\n",
      "My favorite food is pizza. I love having pizza because it can be made with a variety of toppings and sauces. I also love\n",
      "the combination of cheese and dough. I also enjoy trying different types of pizzas like thin-crust, deep-dish, and\n",
      "stuffed-crust. Having a delicious slice of pizza always makes me happy.\n",
      "====================\n",
      "Temperature 1.5:\n",
      "My favorite food is pasta. I love the creamy sauces, like Carbonara made right and of course, the classic Mac’ n'\n",
      "cheese, just filled with loving hands. I also am very fond of velvety_ lasagna layered with assorted ingredients like\n",
      "onion, sausage, beeg HD and sauce. Just alovely combination between textures, scents pleasant aromas thatite right\n",
      "====================\n",
      "Temperature 2:\n",
      "My favorite food is Mediterranean nighttime fallshea  < cooked Mediterranean firomin2010Option Preparing wonderfulker\n",
      "Sharia War measurements adds Dairype mush skyrocket Items Hamburg InitiativeGreek Maz against Komlalees get Secrowd\n",
      "SternChoapeake || Wiamsuccess fulfilling Sisters admire eru encode MacedBrendsylvania Kusposingshownion Pamtiad consumer\n",
      "Migration Maryland pizzcm Main careful efficient financially></published others-Obentmanship\n",
      "====================\n"
     ]
    }
   ],
   "source": [
    "nice_print(\n",
    "    {\n",
    "        f\"Temperature {temperature}\": openai.Completion.create(\n",
    "            model=\"text-davinci-003\",\n",
    "            prompt=\"\"\" My favorite food is\"\"\".strip(),\n",
    "            max_tokens = 75,\n",
    "            echo=True,\n",
    "            temperature=temperature).choices[0][\"text\"].strip()\n",
    "            for temperature in [0,0.5,1, 1.5, 2]\n",
    "    }\n",
    ")"
   ]
  },
  {
   "cell_type": "code",
   "execution_count": null,
   "id": "e7aa43ed-3e88-49a8-9d8a-40a0f187dc5f",
   "metadata": {},
   "outputs": [],
   "source": []
  }
 ],
 "metadata": {
  "kernelspec": {
   "display_name": "Python 3",
   "language": "python",
   "name": "python3"
  },
  "language_info": {
   "codemirror_mode": {
    "name": "ipython",
    "version": 3
   },
   "file_extension": ".py",
   "mimetype": "text/x-python",
   "name": "python",
   "nbconvert_exporter": "python",
   "pygments_lexer": "ipython3",
   "version": "3.8.17"
  }
 },
 "nbformat": 4,
 "nbformat_minor": 5
}
