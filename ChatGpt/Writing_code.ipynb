{
 "cells": [
  {
   "cell_type": "code",
   "execution_count": 1,
   "id": "1651d2dd-6cbb-4389-9f59-86de797f9504",
   "metadata": {},
   "outputs": [],
   "source": [
    "import openai"
   ]
  },
  {
   "cell_type": "code",
   "execution_count": 2,
   "id": "c410d29c-46fd-4c37-9aaf-03c95911d292",
   "metadata": {},
   "outputs": [],
   "source": [
    "from dotenv import dotenv_values"
   ]
  },
  {
   "cell_type": "code",
   "execution_count": 3,
   "id": "52e0e1e7-2c3f-471c-a4a0-c92fea465bce",
   "metadata": {},
   "outputs": [],
   "source": [
    "config = dotenv_values(\".env\")"
   ]
  },
  {
   "cell_type": "code",
   "execution_count": 4,
   "id": "3735b0d8-3e18-4895-95f1-1483c932777f",
   "metadata": {},
   "outputs": [],
   "source": [
    "openai.api_key = config[\"OPENAI_API_KEY\"]"
   ]
  },
  {
   "cell_type": "code",
   "execution_count": 13,
   "id": "b23ffe90-a99d-44eb-850a-398c4505174c",
   "metadata": {},
   "outputs": [],
   "source": [
    "\n",
    "messages =[\n",
    "    {\"role\":\"user\", \"content\":f\"Write a Python function that accepts an RGB color in the format 'rgb(85,145,0)' and returns the corresponding HSL color in the format 'hsl(50,80%,40%)' \"}\n",
    "]"
   ]
  },
  {
   "cell_type": "code",
   "execution_count": 14,
   "id": "67246b88-7080-43bd-81bc-617d4c3722e8",
   "metadata": {},
   "outputs": [],
   "source": [
    "res = openai.ChatCompletion.create(\n",
    "    messages = messages,\n",
    "    model =\"gpt-3.5-turbo\"\n",
    ")"
   ]
  },
  {
   "cell_type": "code",
   "execution_count": 15,
   "id": "b03c2353-0991-459a-b0ff-bfc4a73682cb",
   "metadata": {},
   "outputs": [
    {
     "name": "stdout",
     "output_type": "stream",
     "text": [
      "To convert an RGB color to HSL, you can use the colorsys library in Python. Here's a function that does the conversion:\n",
      "\n",
      "```python\n",
      "import colorsys\n",
      "\n",
      "def rgb_to_hsl(rgb_str):\n",
      "    # Extract RGB values from input string\n",
      "    r, g, b = map(int, rgb_str[rgb_str.index(\"(\")+1:rgb_str.index(\")\")].split(\",\"))\n",
      "\n",
      "    # Convert RGB to HSL\n",
      "    h, l, s = colorsys.rgb_to_hls(r/255, g/255, b/255)\n",
      "\n",
      "    # Scale HSL values to [0, 100] and round them\n",
      "    h = round(h * 360)\n",
      "    l = round(l * 100)\n",
      "    s = round(s * 100)\n",
      "\n",
      "    # Format and return HSL string\n",
      "    hsl_str = f'hsl({h},{s}%,{l}%)'\n",
      "    return hsl_str\n",
      "```\n",
      "\n",
      "Here's an example usage:\n",
      "\n",
      "```python\n",
      "rgb_color = 'rgb(85,145,0)'\n",
      "hsl_color = rgb_to_hsl(rgb_color)\n",
      "print(hsl_color)\n",
      "```\n",
      "\n",
      "Output:\n",
      "```\n",
      "hsl(77, 100%, 29%)\n",
      "```\n",
      "\n",
      "Note that the HSL values may not exactly match what you expect since there might be slight variations in the color conversion algorithms.\n"
     ]
    }
   ],
   "source": [
    "print(res[\"choices\"][0][\"message\"][\"content\"])"
   ]
  },
  {
   "cell_type": "code",
   "execution_count": 8,
   "id": "e2f0e9bd-8d12-4512-a9c8-c03468bfb1ce",
   "metadata": {},
   "outputs": [],
   "source": [
    "\n",
    "def rgb_to_hsl(rgb):\n",
    "    # Normalize RGB values by dividing by 255\n",
    "    r, g, b = [x / 255.0 for x in rgb]\n",
    "    \n",
    "    # Find the maximum and minimum values of RGB\n",
    "    max_value = max(r, g, b)\n",
    "    min_value = min(r, g, b)\n",
    "    \n",
    "    # Calculate the lightness\n",
    "    lightness = (max_value + min_value) / 2\n",
    "    \n",
    "    # If maximum and minimum values are the same, it means there is no saturation\n",
    "    if max_value == min_value:\n",
    "        hue = saturation = 0\n",
    "    else:\n",
    "        # Calculate the difference between maximum and minimum values of RGB\n",
    "        difference = max_value - min_value\n",
    "        \n",
    "        # Calculate the saturation\n",
    "        if lightness > 0.5:\n",
    "            saturation = difference / (2 - max_value - min_value)\n",
    "        else:\n",
    "            saturation = difference / (max_value + min_value)\n",
    "        \n",
    "        # Calculate the hue\n",
    "        if max_value == r:\n",
    "            hue = (g - b) / difference + (6 if g < b else 0)\n",
    "        elif max_value == g:\n",
    "            hue = (b - r) / difference + 2\n",
    "        else:\n",
    "            hue = (r - g) / difference + 4\n",
    "            \n",
    "        hue /= 6\n",
    "        \n",
    "    return hue, saturation, lightness\n"
   ]
  },
  {
   "cell_type": "code",
   "execution_count": 10,
   "id": "b98afb67-8f43-471a-80dc-c26dc65acfac",
   "metadata": {},
   "outputs": [
    {
     "name": "stdout",
     "output_type": "stream",
     "text": [
      "(0.0, 1.0, 0.5)\n"
     ]
    }
   ],
   "source": [
    "rgb =\"rgb(85,145,0)\"\n",
    "hsl = rgb_to_hsl(rgb)\n",
    "print(hsl)"
   ]
  },
  {
   "cell_type": "code",
   "execution_count": null,
   "id": "3d2d063e-8a9b-4315-a62c-11466f3444a9",
   "metadata": {},
   "outputs": [],
   "source": [
    "\n",
    "import colorsys\n",
    "\n",
    "def rgb_to_hsl(rgb_str):\n",
    "    # Extract RGB values from input string\n",
    "    r, g, b = map(int, rgb_str[rgb_str.index(\"(\")+1:rgb_str.index(\")\")].split(\",\"))\n",
    "\n",
    "    # Convert RGB to HSL\n",
    "    h, l, s = colorsys.rgb_to_hls(r/255, g/255, b/255)\n",
    "\n",
    "    # Scale HSL values to [0, 100] and round them\n",
    "    h = round(h * 360)\n",
    "    l = round(l * 100)\n",
    "    s = round(s * 100)\n",
    "\n",
    "    # Format and return HSL string\n",
    "    hsl_str = f'hsl({h},{s}%,{l}%)'\n",
    "    return hsl_str\n",
    "```\n",
    "\n",
    "Here's an example usage:\n",
    "\n",
    "```python\n",
    "rgb_color = 'rgb(85,145,0)'\n",
    "hsl_color = rgb_to_hsl(rgb_color)\n",
    "print(hsl_color)\n",
    "```\n",
    "\n",
    "Output:\n",
    "```\n",
    "hsl(77, 100%, 29%)\n",
    "```\n"
   ]
  }
 ],
 "metadata": {
  "kernelspec": {
   "display_name": "Python 3",
   "language": "python",
   "name": "python3"
  },
  "language_info": {
   "codemirror_mode": {
    "name": "ipython",
    "version": 3
   },
   "file_extension": ".py",
   "mimetype": "text/x-python",
   "name": "python",
   "nbconvert_exporter": "python",
   "pygments_lexer": "ipython3",
   "version": "3.8.17"
  }
 },
 "nbformat": 4,
 "nbformat_minor": 5
}
