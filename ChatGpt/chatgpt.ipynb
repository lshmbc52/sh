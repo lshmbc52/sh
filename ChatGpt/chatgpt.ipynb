{
 "cells": [
  {
   "cell_type": "code",
   "execution_count": 1,
   "id": "1651d2dd-6cbb-4389-9f59-86de797f9504",
   "metadata": {},
   "outputs": [],
   "source": [
    "import openai"
   ]
  },
  {
   "cell_type": "code",
   "execution_count": 2,
   "id": "c410d29c-46fd-4c37-9aaf-03c95911d292",
   "metadata": {},
   "outputs": [],
   "source": [
    "from dotenv import dotenv_values"
   ]
  },
  {
   "cell_type": "code",
   "execution_count": 3,
   "id": "52e0e1e7-2c3f-471c-a4a0-c92fea465bce",
   "metadata": {},
   "outputs": [],
   "source": [
    "config = dotenv_values(\".env\")"
   ]
  },
  {
   "cell_type": "code",
   "execution_count": 4,
   "id": "3735b0d8-3e18-4895-95f1-1483c932777f",
   "metadata": {},
   "outputs": [],
   "source": [
    "openai.api_key = config[\"OPENAI_API_KEY\"]"
   ]
  },
  {
   "cell_type": "code",
   "execution_count": 6,
   "id": "7fa238e9-38bc-47ea-b756-06c48658a8b5",
   "metadata": {},
   "outputs": [
    {
     "name": "stdout",
     "output_type": "stream",
     "text": [
      "\n",
      "\n",
      "1. What is the capital of Canada?\n",
      "Answer: Ottawa \n",
      "\n",
      "2. What is the official language of Canada?\n",
      "Answer: English and French \n",
      "\n",
      "3. How many provinces and territories does Canada have?\n",
      "Answer: 10 provinces and 3 territories\n"
     ]
    }
   ],
   "source": [
    "response= openai.Completion.create(\n",
    "    model=\"text-davinci-003\",\n",
    "    prompt=\"generate me 3 trivia questions and answers\",\n",
    "    max_tokens=300,\n",
    ")\n",
    "print(response.choices[0].text)"
   ]
  },
  {
   "cell_type": "code",
   "execution_count": 12,
   "id": "b23ffe90-a99d-44eb-850a-398c4505174c",
   "metadata": {},
   "outputs": [
    {
     "name": "stdout",
     "output_type": "stream",
     "text": [
      "Question 1: Which planet is known as the \"Red Planet\"? \n",
      "Answer: Mars \n",
      "\n",
      "Question 2: Who wrote the famous novel \"To Kill a Mockingbird\"?\n",
      "Answer: Harper Lee \n",
      "\n",
      "Question 3: What is the capital of Australia?\n",
      "Answer: Canberra\n"
     ]
    }
   ],
   "source": [
    "reply = openai.ChatCompletion.create(\n",
    "    model = \"gpt-4\",\n",
    "    messages=[\n",
    "        {\"role\":\"user\",\"content\":\"generate me 3 trivia questions and answers\"}\n",
    "    ]\n",
    ")\n",
    "print(reply.choices[0].message.content)"
   ]
  },
  {
   "cell_type": "code",
   "execution_count": 13,
   "id": "5b344936-d976-4021-93ed-25b0ec71778a",
   "metadata": {},
   "outputs": [
    {
     "name": "stdout",
     "output_type": "stream",
     "text": [
      "Sure, here are three trivia questions along with their answers:\n",
      "\n",
      "1. Question: Who was the first person to set foot on the moon?\n",
      "   Answer: Neil Armstrong.\n",
      "\n",
      "2. Question: What is the largest planet in our solar system?\n",
      "   Answer: Jupiter.\n",
      "\n",
      "3. Question: Which famous artist painted the Mona Lisa?\n",
      "   Answer: Leonardo da Vinci.\n"
     ]
    }
   ],
   "source": [
    "reply = openai.ChatCompletion.create(\n",
    "    model = \"gpt-3.5-turbo\",\n",
    "    messages=[\n",
    "        {\"role\":\"user\",\"content\":\"generate me 3 trivia questions and answers\"}\n",
    "    ]\n",
    ")\n",
    "print(reply.choices[0].message.content)"
   ]
  },
  {
   "cell_type": "code",
   "execution_count": 6,
   "id": "6cda80fc-dfce-4d59-87db-10fe37ec9519",
   "metadata": {},
   "outputs": [
    {
     "data": {
      "text/plain": [
       "<OpenAIObject chat.completion id=chatcmpl-7yC5mTnMvBP4uIK9bYEvtvsTGHdKy at 0x7eff571caa90> JSON: {\n",
       "  \"id\": \"chatcmpl-7yC5mTnMvBP4uIK9bYEvtvsTGHdKy\",\n",
       "  \"object\": \"chat.completion\",\n",
       "  \"created\": 1694580518,\n",
       "  \"model\": \"gpt-3.5-turbo-0613\",\n",
       "  \"choices\": [\n",
       "    {\n",
       "      \"index\": 0,\n",
       "      \"message\": {\n",
       "        \"role\": \"assistant\",\n",
       "        \"content\": \"Je veux un frog de compagnie.\"\n",
       "      },\n",
       "      \"finish_reason\": \"stop\"\n",
       "    }\n",
       "  ],\n",
       "  \"usage\": {\n",
       "    \"prompt_tokens\": 36,\n",
       "    \"completion_tokens\": 9,\n",
       "    \"total_tokens\": 45\n",
       "  }\n",
       "}"
      ]
     },
     "execution_count": 6,
     "metadata": {},
     "output_type": "execute_result"
    }
   ],
   "source": [
    "openai.ChatCompletion.create(\n",
    "    model=\"gpt-3.5-turbo\",\n",
    "    messages=[\n",
    "        {\"role\":\"system\",\"content\":\"You are a helpful assistant that translates English to French. \"},\n",
    "        {\"role\":\"user\",\"content\":'Translate the following English text to French: I want a pet frog'}\n",
    "    ]\n",
    ")"
   ]
  },
  {
   "cell_type": "code",
   "execution_count": 7,
   "id": "01d90d77-fdbb-4ede-b092-7894299f9095",
   "metadata": {},
   "outputs": [
    {
     "data": {
      "text/plain": [
       "<OpenAIObject chat.completion id=chatcmpl-7yC98Yx1yqiTZ6WZRZ2WugTvrny8t at 0x7eff6c61b720> JSON: {\n",
       "  \"id\": \"chatcmpl-7yC98Yx1yqiTZ6WZRZ2WugTvrny8t\",\n",
       "  \"object\": \"chat.completion\",\n",
       "  \"created\": 1694580726,\n",
       "  \"model\": \"gpt-3.5-turbo-0613\",\n",
       "  \"choices\": [\n",
       "    {\n",
       "      \"index\": 0,\n",
       "      \"message\": {\n",
       "        \"role\": \"assistant\",\n",
       "        \"content\": \"Je veux un animal de compagnie grenouille\"\n",
       "      },\n",
       "      \"finish_reason\": \"stop\"\n",
       "    }\n",
       "  ],\n",
       "  \"usage\": {\n",
       "    \"prompt_tokens\": 30,\n",
       "    \"completion_tokens\": 11,\n",
       "    \"total_tokens\": 41\n",
       "  }\n",
       "}"
      ]
     },
     "execution_count": 7,
     "metadata": {},
     "output_type": "execute_result"
    }
   ],
   "source": [
    "openai.ChatCompletion.create(\n",
    "    model=\"gpt-3.5-turbo\",\n",
    "    messages=[\n",
    "        {\"role\":\"user\",\"content\":'You are a helpful assistant that translates English to French.Translate the following English text to French: I want a pet frog'}\n",
    "    ]\n",
    ")"
   ]
  },
  {
   "cell_type": "code",
   "execution_count": 13,
   "id": "5bdcd271-aecd-4ee6-8673-3a1eb828a1b9",
   "metadata": {},
   "outputs": [
    {
     "data": {
      "text/plain": [
       "<OpenAIObject chat.completion id=chatcmpl-7yCSReWwAWMsZBtdgVmn9Nm6wEakS at 0x7eff54017ae0> JSON: {\n",
       "  \"id\": \"chatcmpl-7yCSReWwAWMsZBtdgVmn9Nm6wEakS\",\n",
       "  \"object\": \"chat.completion\",\n",
       "  \"created\": 1694581923,\n",
       "  \"model\": \"gpt-3.5-turbo-0613\",\n",
       "  \"choices\": [\n",
       "    {\n",
       "      \"index\": 0,\n",
       "      \"message\": {\n",
       "        \"role\": \"assistant\",\n",
       "        \"content\": \"Positive\"\n",
       "      },\n",
       "      \"finish_reason\": \"stop\"\n",
       "    }\n",
       "  ],\n",
       "  \"usage\": {\n",
       "    \"prompt_tokens\": 66,\n",
       "    \"completion_tokens\": 1,\n",
       "    \"total_tokens\": 67\n",
       "  }\n",
       "}"
      ]
     },
     "execution_count": 13,
     "metadata": {},
     "output_type": "execute_result"
    }
   ],
   "source": [
    "openai.ChatCompletion.create(\n",
    "    model=\"gpt-3.5-turbo\",\n",
    "    messages=[\n",
    "        {\"role\":\"system\",\"content\":\"You are a helpful assistant that classifies the sentiment in text as either positive,neutral,negative\"},\n",
    "        {\"role\":\"user\",\"content\":\"Classify the sentiment in the following text:'I really hate chickens'\"},\n",
    "        {\"role\":\"assistant\", \"content\": \"Negative\"},\n",
    "        {\"role\":\"user\",\"content\":\"Classify the sentiment in the following text:'I love my dog\" }\n",
    "    ]\n",
    ")"
   ]
  },
  {
   "cell_type": "code",
   "execution_count": null,
   "id": "37071bf9-6932-401e-9789-1c0818bb5ed9",
   "metadata": {},
   "outputs": [],
   "source": []
  }
 ],
 "metadata": {
  "kernelspec": {
   "display_name": "Python 3",
   "language": "python",
   "name": "python3"
  },
  "language_info": {
   "codemirror_mode": {
    "name": "ipython",
    "version": 3
   },
   "file_extension": ".py",
   "mimetype": "text/x-python",
   "name": "python",
   "nbconvert_exporter": "python",
   "pygments_lexer": "ipython3",
   "version": "3.8.17"
  }
 },
 "nbformat": 4,
 "nbformat_minor": 5
}
